{
 "cells": [
  {
   "cell_type": "markdown",
   "metadata": {},
   "source": [
    "#### Credentials"
   ]
  },
  {
   "cell_type": "code",
   "execution_count": 1,
   "metadata": {},
   "outputs": [],
   "source": [
    "import getpass\n",
    "import os\n",
    "\n",
    "if \"GOOGLE_API_KEY\" not in os.environ:\n",
    "    os.environ[\"GOOGLE_API_KEY\"] = getpass.getpass(\"Enter your Google AI API key: \")"
   ]
  },
  {
   "cell_type": "markdown",
   "metadata": {},
   "source": [
    "#### Instantiation\n",
    "Instantiate model object and generate chat completions:"
   ]
  },
  {
   "cell_type": "code",
   "execution_count": 2,
   "metadata": {},
   "outputs": [],
   "source": [
    "from langchain_google_genai import ChatGoogleGenerativeAI\n",
    "\n",
    "llm = ChatGoogleGenerativeAI(\n",
    "    model=\"gemini-2.0-flash\",\n",
    "    temperature=0,\n",
    "    max_tokens=None,\n",
    "    timeout=None,\n",
    "    max_retries=2,\n",
    "    # other params...\n",
    ")"
   ]
  },
  {
   "cell_type": "code",
   "execution_count": 3,
   "metadata": {},
   "outputs": [
    {
     "data": {
      "text/plain": [
       "AIMessage(content=\"Computer science (CS) is a broad and dynamic field that encompasses the study of computation and information. It's not just about computers themselves, but rather about the underlying principles and theories that govern how information is processed, stored, and communicated.\\n\\nHere's a breakdown of key aspects of computer science:\\n\\n**Core Concepts:**\\n\\n*   **Algorithms:**  A set of well-defined instructions for solving a problem or performing a task.  Computer scientists design, analyze, and optimize algorithms for efficiency and effectiveness.\\n*   **Data Structures:**  Ways of organizing and storing data to enable efficient access and manipulation.  Examples include arrays, linked lists, trees, graphs, and hash tables.\\n*   **Programming Languages:**  Formal languages used to instruct computers to perform specific tasks.  Examples include Python, Java, C++, JavaScript, and many others.\\n*   **Computation:** The process of performing calculations or logical operations. Computer science explores the limits of what can be computed and how efficiently it can be done.\\n*   **Information Theory:**  The study of quantifying, storing, and communicating information.\\n*   **Theory of Computation:**  Deals with the fundamental capabilities and limitations of computers, including computability, complexity, and automata theory.\\n\\n**Key Areas of Study and Application:**\\n\\n*   **Software Engineering:**  The systematic approach to designing, developing, testing, and maintaining software systems.\\n*   **Artificial Intelligence (AI):**  Developing intelligent agents that can reason, learn, and act autonomously.  Includes machine learning, natural language processing, computer vision, and robotics.\\n*   **Databases:**  Designing and managing systems for storing, retrieving, and managing large amounts of data.\\n*   **Computer Networks:**  Designing and managing networks of computers that can communicate with each other.  Includes the Internet, local area networks (LANs), and wireless networks.\\n*   **Computer Graphics:**  Creating and manipulating images and animations using computers.\\n*   **Human-Computer Interaction (HCI):**  Designing user interfaces that are easy to use and effective.\\n*   **Cybersecurity:**  Protecting computer systems and networks from unauthorized access, use, disclosure, disruption, modification, or destruction.\\n*   **Operating Systems:**  Managing computer hardware and providing services to applications.\\n*   **Distributed Systems:**  Designing and managing systems that consist of multiple computers working together.\\n*   **Bioinformatics:**  Applying computational techniques to analyze biological data.\\n*   **Scientific Computing:**  Using computers to solve scientific and engineering problems.\\n*   **Game Development:**  Creating video games and other interactive entertainment.\\n\\n**Why is Computer Science Important?**\\n\\n*   **Innovation:**  Computer science drives innovation in virtually every industry, from healthcare and finance to transportation and entertainment.\\n*   **Problem Solving:**  Computer science provides the tools and techniques to solve complex problems in a systematic and efficient way.\\n*   **Automation:**  Computer science enables the automation of tasks, freeing up humans to focus on more creative and strategic work.\\n*   **Data Analysis:**  Computer science provides the tools to analyze large datasets and extract valuable insights.\\n*   **Communication:**  Computer science enables communication and collaboration across the globe.\\n*   **Economic Growth:**  The computer science industry is a major driver of economic growth.\\n\\n**In simple terms:**\\n\\nComputer science is about understanding how to solve problems using computers. It involves designing algorithms, writing code, and building systems that can process information and automate tasks. It's a field that is constantly evolving and has a profound impact on our world.\", additional_kwargs={}, response_metadata={'prompt_feedback': {'block_reason': 0, 'safety_ratings': []}, 'finish_reason': 'STOP', 'safety_ratings': []}, id='run-2ed5d0ae-79ce-4b09-9c48-cf20c570cc79-0', usage_metadata={'input_tokens': 4, 'output_tokens': 749, 'total_tokens': 753, 'input_token_details': {'cache_read': 0}})"
      ]
     },
     "execution_count": 3,
     "metadata": {},
     "output_type": "execute_result"
    }
   ],
   "source": [
    "ai_msg = llm.invoke('what is computer science')\n",
    "ai_msg"
   ]
  },
  {
   "cell_type": "code",
   "execution_count": 9,
   "metadata": {},
   "outputs": [
    {
     "data": {
      "text/plain": [
       "\"Computer science (CS) is a broad and dynamic field that encompasses the study of computation and information. It's not just about computers themselves, but rather about the underlying principles and theories that govern how information is processed, stored, and communicated.\\n\\nHere's a breakdown of key aspects of computer science:\\n\\n**Core Concepts:**\\n\\n*   **Algorithms:**  A set of well-defined instructions for solving a problem or performing a task.  Computer scientists design, analyze, and optimize algorithms for efficiency and effectiveness.\\n*   **Data Structures:**  Ways of organizing and storing data to enable efficient access and manipulation.  Examples include arrays, linked lists, trees, graphs, and hash tables.\\n*   **Programming Languages:**  Formal languages used to instruct computers to perform specific tasks.  Examples include Python, Java, C++, JavaScript, and many others.\\n*   **Computation:** The process of performing calculations or logical operations. Computer science explores the limits of what can be computed and how efficiently it can be done.\\n*   **Information Theory:**  The study of quantifying, storing, and communicating information.\\n*   **Theory of Computation:**  Deals with the fundamental capabilities and limitations of computers, including computability, complexity, and automata theory.\\n\\n**Key Areas of Study and Application:**\\n\\n*   **Software Engineering:**  The systematic approach to designing, developing, testing, and maintaining software systems.\\n*   **Artificial Intelligence (AI):**  Developing intelligent agents that can reason, learn, and act autonomously.  Includes machine learning, natural language processing, computer vision, and robotics.\\n*   **Databases:**  Designing and managing systems for storing, retrieving, and managing large amounts of data.\\n*   **Computer Networks:**  Designing and managing networks of computers that can communicate with each other.  Includes the Internet, local area networks (LANs), and wireless networks.\\n*   **Computer Graphics:**  Creating and manipulating images and animations using computers.\\n*   **Human-Computer Interaction (HCI):**  Designing user interfaces that are easy to use and effective.\\n*   **Cybersecurity:**  Protecting computer systems and networks from unauthorized access, use, disclosure, disruption, modification, or destruction.\\n*   **Operating Systems:**  Managing computer hardware and providing services to applications.\\n*   **Distributed Systems:**  Designing and managing systems that consist of multiple computers working together.\\n*   **Bioinformatics:**  Applying computational techniques to analyze biological data.\\n*   **Scientific Computing:**  Using computers to solve scientific and engineering problems.\\n*   **Game Development:**  Creating video games and other interactive entertainment.\\n\\n**Why is Computer Science Important?**\\n\\n*   **Innovation:**  Computer science drives innovation in virtually every industry, from healthcare and finance to transportation and entertainment.\\n*   **Problem Solving:**  Computer science provides the tools and techniques to solve complex problems in a systematic and efficient way.\\n*   **Automation:**  Computer science enables the automation of tasks, freeing up humans to focus on more creative and strategic work.\\n*   **Data Analysis:**  Computer science provides the tools to analyze large datasets and extract valuable insights.\\n*   **Communication:**  Computer science enables communication and collaboration across the globe.\\n*   **Economic Growth:**  The computer science industry is a major driver of economic growth.\\n\\n**In simple terms:**\\n\\nComputer science is about understanding how to solve problems using computers. It involves designing algorithms, writing code, and building systems that can process information and automate tasks. It's a field that is constantly evolving and has a profound impact on our world.\""
      ]
     },
     "execution_count": 9,
     "metadata": {},
     "output_type": "execute_result"
    }
   ],
   "source": [
    "ai_msg.content.strip()"
   ]
  },
  {
   "cell_type": "code",
   "execution_count": 4,
   "metadata": {},
   "outputs": [
    {
     "data": {
      "text/plain": [
       "AIMessage(content=\"```sql\\nSELECT * FROM Employees WHERE HireDate > '2020-12-31';\\n```\", additional_kwargs={}, response_metadata={'prompt_feedback': {'block_reason': 0, 'safety_ratings': []}, 'finish_reason': 'STOP', 'safety_ratings': []}, id='run-b058f115-16f5-481a-b5e5-46a392faf41a-0', usage_metadata={'input_tokens': 40, 'output_tokens': 26, 'total_tokens': 66, 'input_token_details': {'cache_read': 0}})"
      ]
     },
     "execution_count": 4,
     "metadata": {},
     "output_type": "execute_result"
    }
   ],
   "source": [
    "user_request = \"Get employees hired after 2020.\"\n",
    "\n",
    "prompt = f\"\"\"\n",
    "    Convert the following request into a valid SQL query:\n",
    "    \"{user_request}\"\n",
    "    The output should be only the SQL query without explanations.\n",
    "    \"\"\"\n",
    "\n",
    "test = llm.invoke(prompt)\n",
    "test"
   ]
  },
  {
   "cell_type": "code",
   "execution_count": 30,
   "metadata": {},
   "outputs": [],
   "source": [
    "def generate(prompt):\n",
    "    # response = genai.generate_text(model=\"gemini-pro\", prompt=prompt)\n",
    "    response = llm.invoke(prompt)\n",
    "    return response.content.strip()"
   ]
  },
  {
   "cell_type": "markdown",
   "metadata": {},
   "source": [
    "setup simple database"
   ]
  },
  {
   "cell_type": "code",
   "execution_count": 31,
   "metadata": {},
   "outputs": [],
   "source": [
    "import sqlite3\n",
    "# Setup: Create a sample in-memory database\n",
    "def setup_database():\n",
    "    conn = sqlite3.connect(\":memory:\")\n",
    "    cursor = conn.cursor()\n",
    "    cursor.execute(\"\"\"\n",
    "        CREATE TABLE employees (\n",
    "            id INTEGER PRIMARY KEY,\n",
    "            name TEXT,\n",
    "            hire_date TEXT\n",
    "        )\n",
    "    \"\"\")\n",
    "    cursor.executemany(\"INSERT INTO employees (name, hire_date) VALUES (?, ?)\", [\n",
    "        (\"Alice\", \"2021-05-10\"),\n",
    "        (\"Bob\", \"2019-08-15\"),\n",
    "        (\"Charlie\", \"2022-11-30\")\n",
    "    ])\n",
    "    conn.commit()\n",
    "    return conn"
   ]
  },
  {
   "cell_type": "markdown",
   "metadata": {},
   "source": [
    "agents"
   ]
  },
  {
   "cell_type": "code",
   "execution_count": 32,
   "metadata": {},
   "outputs": [],
   "source": [
    "import re\n",
    "\n",
    "def clean_sql_output(sql_response):\n",
    "    \"\"\"Removes markdown formatting and unnecessary text from Gemini's output.\"\"\"\n",
    "    return re.sub(r\"```sql|```\", \"\", sql_response).strip()\n",
    "\n",
    "# Function to generate SQL query\n",
    "def generate_sql_query(user_request):\n",
    "    prompt = f\"\"\"\n",
    "    Given the following database schema: \n",
    "    Table: employees (columns: id INTEGER, name TEXT, hire_date TEXT)\n",
    "    Convert the following request into a valid SQL query:\n",
    "    \"{user_request}\"\n",
    "    The output should be only the SQL query without explanations.\n",
    "    \"\"\"\n",
    "    sql_query = generate(prompt)\n",
    "    return clean_sql_output(sql_query)\n",
    "\n",
    "# Function to execute SQL query\n",
    "def execute_sql_query(query, conn):\n",
    "    try:\n",
    "        cursor = conn.cursor()\n",
    "        cursor.execute(query)\n",
    "        return cursor.fetchall()\n",
    "    except Exception as e:\n",
    "        return f\"Error: {str(e)}\"\n",
    "\n",
    "# Function to verify if result matches intent\n",
    "def verify_output(user_request, query, result):\n",
    "    prompt = f\"\"\"\n",
    "    User requested: \"{user_request}\"\n",
    "    Generated SQL: \"{query}\"\n",
    "    SQL result: \"{result}\"\n",
    "    \n",
    "    Does this output correctly satisfy the user request? Answer with 'Yes' if it does; otherwise, explain why and suggest a corrected SQL query.\n",
    "    \"\"\"\n",
    "    return generate(prompt)"
   ]
  },
  {
   "cell_type": "markdown",
   "metadata": {},
   "source": [
    "main agent"
   ]
  },
  {
   "cell_type": "code",
   "execution_count": 35,
   "metadata": {},
   "outputs": [],
   "source": [
    "# Main agent function with retries\n",
    "def agentic_sql_executor(user_request, conn, max_retries=3):\n",
    "    for attempt in range(max_retries):\n",
    "        # Step 1: Generate SQL\n",
    "        query = generate_sql_query(user_request)\n",
    "        \n",
    "        # Step 2: Execute SQL\n",
    "        result = execute_sql_query(query, conn)\n",
    "        \n",
    "        # Step 3: Validate result\n",
    "        verification = verify_output(user_request, query, result)\n",
    "        \n",
    "        if verification.strip().lower().startswith(\"yes\"):\n",
    "            # q= query\n",
    "            # r= result\n",
    "            print(f\"Retry {attempt+1}: Fixing based on feedback: {verification}\")\n",
    "\n",
    "            return query, result  # Success!\n",
    "        else:\n",
    "            print(f\"Retry {attempt+1}: Fixing based on feedback: {verification}\")\n",
    "            # return None, \"Failed to generate a valid query.\"  # Ensure two values are returned\n",
    "    \n",
    "    \n",
    "    # return q, r  # Ensure two values are returned\n",
    "    return None, \"Failed to generate a valid query.\"  # Ensure two values are returned"
   ]
  },
  {
   "cell_type": "markdown",
   "metadata": {},
   "source": [
    "test"
   ]
  },
  {
   "cell_type": "code",
   "execution_count": 38,
   "metadata": {},
   "outputs": [
    {
     "name": "stdout",
     "output_type": "stream",
     "text": [
      "Retry 1: Fixing based on feedback: Yes\n",
      "Final Query: SELECT * FROM employees WHERE hire_date > '2020-12-31';\n",
      "Final Result: [(1, 'Alice', '2021-05-10'), (3, 'Charlie', '2022-11-30')]\n"
     ]
    }
   ],
   "source": [
    "# Example Usage\n",
    "if __name__ == \"__main__\":\n",
    "    conn = setup_database()\n",
    "    user_request = \"Get employees hired after 2020.\"\n",
    "    # user_request = \"Get balanced income of each employee after 2020.\"\n",
    "    query, result = agentic_sql_executor(user_request, conn)\n",
    "    print(\"Final Query:\", query)\n",
    "    print(\"Final Result:\", result)"
   ]
  },
  {
   "cell_type": "code",
   "execution_count": 29,
   "metadata": {},
   "outputs": [
    {
     "data": {
      "text/plain": [
       "[('employees',)]"
      ]
     },
     "execution_count": 29,
     "metadata": {},
     "output_type": "execute_result"
    }
   ],
   "source": [
    "tq = \"SELECT name FROM sqlite_master WHERE type='table';\"\n",
    "cursor = conn.cursor()\n",
    "cursor.execute(tq)\n",
    "test = cursor.fetchall()\n",
    "test"
   ]
  }
 ],
 "metadata": {
  "kernelspec": {
   "display_name": "venv",
   "language": "python",
   "name": "python3"
  },
  "language_info": {
   "codemirror_mode": {
    "name": "ipython",
    "version": 3
   },
   "file_extension": ".py",
   "mimetype": "text/x-python",
   "name": "python",
   "nbconvert_exporter": "python",
   "pygments_lexer": "ipython3",
   "version": "3.11.8"
  }
 },
 "nbformat": 4,
 "nbformat_minor": 2
}
